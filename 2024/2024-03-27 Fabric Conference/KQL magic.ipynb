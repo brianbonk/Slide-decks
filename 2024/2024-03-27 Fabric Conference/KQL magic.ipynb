{
    "metadata": {
        "kernelspec": {
            "name": "python3",
            "display_name": "Python 3",
            "language": "python"
        },
        "language_info": {
            "name": "python",
            "version": "3.8.10",
            "mimetype": "text/x-python",
            "codemirror_mode": {
                "name": "ipython",
                "version": 3
            },
            "pygments_lexer": "ipython3",
            "nbconvert_exporter": "python",
            "file_extension": ".py"
        }
    },
    "nbformat_minor": 2,
    "nbformat": 4,
    "cells": [
        {
            "cell_type": "markdown",
            "source": [
                "## **Prepare the use of KQL magic in Jupyter Notebooks**\n",
                "\n",
                "In order to leverage the use of KQL magic in Notebooks, you need to install the KQL magic extenstion.\n",
                "\n",
                "It does not matter where you install it, it wil work for both Azure Data Explorer and other notebook tools you might be using."
            ],
            "metadata": {
                "azdata_cell_guid": "533f88f7-a05e-4cef-b23a-9c9ee7a18382",
                "language": "python"
            },
            "attachments": {}
        },
        {
            "cell_type": "code",
            "source": [
                "import sys\r\n",
                "!{sys.executable} -m pip install Kqlmagic --no-cache-dir --upgrade"
            ],
            "metadata": {
                "azdata_cell_guid": "3add80fa-67b3-40d3-bb8d-d26aeab344e4",
                "language": "python"
            },
            "outputs": [],
            "execution_count": null
        },
        {
            "cell_type": "code",
            "source": [
                "import sys\r\n",
                "!{sys.executable} -m pip list"
            ],
            "metadata": {
                "language": "python",
                "azdata_cell_guid": "99bebab2-6cdb-46fc-a2a9-39c6c88c02c7"
            },
            "outputs": [],
            "execution_count": null
        },
        {
            "cell_type": "markdown",
            "source": [
                "## **Enable the KQL extension**\n",
                "\n",
                "After installation, you need to enable the extension in the current application."
            ],
            "metadata": {
                "azdata_cell_guid": "8ecab276-6d12-409f-a5f5-ad8608b837d0"
            },
            "attachments": {}
        },
        {
            "cell_type": "code",
            "source": [
                "%reload_ext Kqlmagic"
            ],
            "metadata": {
                "azdata_cell_guid": "5e4409dc-a378-4542-95b6-1ec1336a9b19",
                "language": "python"
            },
            "outputs": [],
            "execution_count": null
        },
        {
            "cell_type": "markdown",
            "source": [
                "## **Connect to KQL Cluster**\n",
                "\n",
                "Now you can connect to your KQL cluster - either by using default login (with popup) or by using application key approach"
            ],
            "metadata": {
                "azdata_cell_guid": "b603debd-a6f3-47b9-8057-2eff825aa750",
                "language": "python"
            },
            "attachments": {}
        },
        {
            "cell_type": "code",
            "source": [
                "## Default pop-up approach\n",
                "%kql AzureDataExplorer://code;cluster='https://trd-kkqsa5kpw8x15701xn.z3.kusto.fabric.microsoft.com';database='7a4b04a5-ed06-4860-87da-a5af20b2392c'"
            ],
            "metadata": {
                "azdata_cell_guid": "291aabc3-8213-42aa-a7ca-5f9cea0059e1",
                "language": "python",
                "tags": []
            },
            "outputs": [
                {
                    "name": "stderr",
                    "text": "UsageError: Line magic function `%kql` not found.\n",
                    "output_type": "stream"
                }
            ],
            "execution_count": 2
        },
        {
            "cell_type": "code",
            "source": [
                "## application key approach\n",
                "%kql AzureDataExplorer://tenant='<tenant-id>';clientid='<aad-appid>';clientsecret='<aad-appkey>';cluster='<cluster-name>';database='<database-name>'"
            ],
            "metadata": {
                "azdata_cell_guid": "f02ffebe-a477-4401-a101-a075186f75fa",
                "language": "python"
            },
            "outputs": [],
            "execution_count": null
        },
        {
            "cell_type": "code",
            "source": [
                "## Connect to the HELP cluster from Microsoft\n",
                "%kql AzureDataExplorer://tenant=\"Microsoft.com\";code;cluster='help';database='Samples'"
            ],
            "metadata": {
                "azdata_cell_guid": "f4622903-60fa-4eba-b41a-0c8a2e9e4a72",
                "language": "python"
            },
            "outputs": [],
            "execution_count": null
        },
        {
            "cell_type": "markdown",
            "source": [
                "## **Begin to use your Kusto magic**\n",
                "\n",
                "After connection you can begin to leverage your kusto abilities and get some things done"
            ],
            "metadata": {
                "azdata_cell_guid": "73b5e6bf-02cf-4623-83b0-e399c872968b",
                "language": "python"
            },
            "attachments": {}
        },
        {
            "cell_type": "markdown",
            "source": [
                "## **In the SQL world:**\n",
                "\n",
                "select \\* from NYCTaxi"
            ],
            "metadata": {
                "language": "python",
                "azdata_cell_guid": "10680d44-d3d1-4ba0-89df-e4bc8b22d987"
            },
            "attachments": {}
        },
        {
            "cell_type": "code",
            "source": [
                "%%kql\n",
                "\n",
                "NYCTaxi\n",
                "| take 100"
            ],
            "metadata": {
                "azdata_cell_guid": "647f7c98-7b47-44f0-b08b-3b87059813c8",
                "language": "python"
            },
            "outputs": [],
            "execution_count": null
        },
        {
            "cell_type": "markdown",
            "source": [
                "## **In the SQL world:**\n",
                "\n",
                "<span style=\"color: var(--vscode-foreground);\">select * from NYCTaxi<br></span><span style=\"color: var(--vscode-foreground);\">where VentorID = 2</span>"
            ],
            "metadata": {
                "language": "python",
                "azdata_cell_guid": "14881f74-b6b2-4f70-9c41-3bfbc2b68e80"
            },
            "attachments": {}
        },
        {
            "cell_type": "code",
            "source": [
                "%%kql\n",
                "\n",
                "NYCTaxi\n",
                "| where VendorID == 2\n",
                "| take 100\n",
                ""
            ],
            "metadata": {
                "azdata_cell_guid": "1eb217aa-5a99-4b2f-8530-d30f449e40d4",
                "language": "python"
            },
            "outputs": [],
            "execution_count": null
        },
        {
            "cell_type": "markdown",
            "source": [
                "## **In the SQL world:**\n",
                "\n",
                "<span style=\"color: var(--vscode-foreground);\">select * from NYCTaxi<br></span><span style=\"color: var(--vscode-foreground);\">where VentorID = 2<br></span><span style=\"color: var(--vscode-foreground);\">order by passenger_count</span>"
            ],
            "metadata": {
                "language": "python",
                "azdata_cell_guid": "b144bad4-3717-4345-840b-c8fb446fa73b"
            },
            "attachments": {}
        },
        {
            "cell_type": "code",
            "source": [
                "%%kql\r\n",
                "\r\n",
                "NYCTaxi\r\n",
                "| where VendorID == 2\r\n",
                "| take 100\r\n",
                "| order by passenger_count\r\n",
                ""
            ],
            "metadata": {
                "language": "python",
                "azdata_cell_guid": "1de11634-1e44-47aa-a058-118f3423f5ab",
                "tags": []
            },
            "outputs": [],
            "execution_count": null
        },
        {
            "cell_type": "markdown",
            "source": [
                "## **In the SQL world:**\n",
                "\n",
                "<span style=\"color: var(--vscode-foreground);\">select count(*) from NYCTaxi</span>"
            ],
            "metadata": {
                "language": "python",
                "azdata_cell_guid": "204775ed-aab6-4201-a91d-b09b70e4c93d"
            },
            "attachments": {}
        },
        {
            "cell_type": "code",
            "source": [
                "%%kql\r\n",
                "\r\n",
                "NYCTaxi\r\n",
                "| count"
            ],
            "metadata": {
                "language": "python",
                "azdata_cell_guid": "44481dcb-183e-45f6-9184-27964c60039f"
            },
            "outputs": [],
            "execution_count": null
        },
        {
            "cell_type": "markdown",
            "source": [
                "## **In the SQL world:**\n",
                "\n",
                "select   \n",
                "    <span style=\"color: var(--vscode-foreground);\">&nbsp; &nbsp; passenger_count<br></span>    <span style=\"color: var(--vscode-foreground);\">&nbsp; &nbsp; ,VendorID<br></span>    <span style=\"color: var(--vscode-foreground);\">&nbsp; &nbsp; ,trip_distance<br></span><span style=\"color: var(--vscode-foreground);\">from NYCTaxi</span>"
            ],
            "metadata": {
                "language": "python",
                "azdata_cell_guid": "bdf62cfa-e1c7-4cc4-8a22-541dab65cea3"
            },
            "attachments": {}
        },
        {
            "cell_type": "code",
            "source": [
                "%%kql\r\n",
                "\r\n",
                "NYCTaxi\r\n",
                "| project passenger_count, VendorID, trip_distance\r\n",
                ""
            ],
            "metadata": {
                "language": "python",
                "azdata_cell_guid": "b40c756b-3ae5-4dba-9bfd-94797b0b9669"
            },
            "outputs": [],
            "execution_count": null
        },
        {
            "cell_type": "markdown",
            "source": [
                "In the SQL world:\n",
                "\n",
                "  \n",
                "\n",
                "select   \n",
                "    <span style=\"color: var(--vscode-foreground);\">&nbsp; &nbsp; passenger_count<br></span>    <span style=\"color: var(--vscode-foreground);\">&nbsp; &nbsp; ,VendorID<br></span>    <span style=\"color: var(--vscode-foreground);\">&nbsp; &nbsp; ,trip_distance<br></span>    <span style=\"color: var(--vscode-foreground);\">&nbsp; &nbsp; ,total_amount / passenger_count as AmtPsngr<br></span><span style=\"color: var(--vscode-foreground);\">from NYCTaxi</span>"
            ],
            "metadata": {
                "language": "python",
                "azdata_cell_guid": "2a25509e-eeb0-4bc2-940e-acb004ffeb91"
            },
            "attachments": {}
        },
        {
            "cell_type": "code",
            "source": [
                "%%kql\r\n",
                "\r\n",
                "NYCTaxi\r\n",
                "| take 100\r\n",
                "| extend AmtPsngr = total_amount / passenger_count\r\n",
                "| project passenger_count, VendorID, trip_distance, AmtPsngr\r\n",
                ""
            ],
            "metadata": {
                "language": "python",
                "azdata_cell_guid": "0b030589-c236-4566-ab8d-85e46c3341fd"
            },
            "outputs": [],
            "execution_count": null
        },
        {
            "cell_type": "markdown",
            "source": [
                "## **In the SQL world:**\n",
                "\n",
                "select   \n",
                "    <span style=\"color: var(--vscode-foreground);\">&nbsp; &nbsp; sum(passenger_count) as SumPassenger<br></span>    <span style=\"color: var(--vscode-foreground);\">&nbsp; &nbsp; ,VendorID<br></span><span style=\"color: var(--vscode-foreground);\">from NYCTaxi<br></span><span style=\"color: var(--vscode-foreground);\">group by VendorID</span>"
            ],
            "metadata": {
                "language": "python",
                "azdata_cell_guid": "a672b451-54ad-4672-a31b-1eeb26ae1b16"
            },
            "attachments": {}
        },
        {
            "cell_type": "code",
            "source": [
                "%%kql\r\n",
                "\r\n",
                "NYCTaxi\r\n",
                "| summarize SumPassenger = sum(passenger_count) by VendorID\r\n",
                ""
            ],
            "metadata": {
                "language": "python",
                "azdata_cell_guid": "c20fbe9b-a4ce-41c5-94cb-f3b4435aa261"
            },
            "outputs": [],
            "execution_count": null
        },
        {
            "cell_type": "markdown",
            "source": [
                "## **Putting it all together**\n",
                "\n",
                "Please note that I can use several WHERE clauses and other functions whereever I need."
            ],
            "metadata": {
                "language": "python",
                "azdata_cell_guid": "4c378522-d52a-469f-a495-c7d59a5d26ca"
            },
            "attachments": {}
        },
        {
            "cell_type": "code",
            "source": [
                "%%kql\r\n",
                "\r\n",
                "NYCTaxi\r\n",
                "| where passenger_count > 1\r\n",
                "| project passenger_count, total_amount, VendorID, fare_amount\r\n",
                "| extend AmtPsngr = total_amount / passenger_count\r\n",
                "| where AmtPsngr > 10\r\n",
                "| summarize TotalAmount = sum(total_amount), AvgAmtPsngr = avg(AmtPsngr) by VendorID\r\n",
                "| where VendorID  <> 1\r\n",
                ""
            ],
            "metadata": {
                "language": "python",
                "azdata_cell_guid": "50cfb7e0-4e0d-4aea-af2c-442119365233"
            },
            "outputs": [],
            "execution_count": null
        },
        {
            "cell_type": "markdown",
            "source": [
                "## **Rendering**\n",
                "\n",
                "<span style=\"color: var(--vscode-foreground);\">I can also render the results directly in the Notebook or in the query editor in Fabric</span>"
            ],
            "metadata": {
                "language": "python",
                "azdata_cell_guid": "8ee5dff7-b74d-4390-b85c-e7867873035b"
            },
            "attachments": {}
        },
        {
            "cell_type": "code",
            "source": [
                "%%kql\r\n",
                "\r\n",
                "NYCTaxi\r\n",
                "| where tpep_pickup_datetime between (datetime(2009-01-01)..datetime(2015-01-01))\r\n",
                "| extend PickUpdate = startofday(tpep_pickup_datetime)\r\n",
                "| summarize SumPsngrCount = sum(passenger_count) by PickUpdate\r\n",
                "| project PickUpdate, SumPsngrCount\r\n",
                "| render  timechart\r\n",
                "    with(\r\n",
                "        title = \"timechart\"\r\n",
                "        ,xtitle = \"Time\"\r\n",
                "        ,ytitle = \"Fares\"\r\n",
                "    )\r\n",
                ""
            ],
            "metadata": {
                "language": "python",
                "azdata_cell_guid": "b4495e72-aaf3-4a3d-8d4d-a3896695c080"
            },
            "outputs": [],
            "execution_count": null
        },
        {
            "cell_type": "markdown",
            "source": [
                "## **Use resultset in next cell**\n",
                "\n",
                "After you have your data as you wish, you can begin to work with it in dataframes as you would any other dataset"
            ],
            "metadata": {
                "azdata_cell_guid": "089dcdd2-fb42-4235-9915-a519f6455bdd",
                "language": "python"
            },
            "attachments": {}
        },
        {
            "cell_type": "code",
            "source": [
                "%%kql\n",
                "\n",
                "NYCTaxi\n",
                "| summarize count=count() by HourOfDay=hourofday(tpep_pickup_datetime)\n",
                "| order by HourOfDay"
            ],
            "metadata": {
                "azdata_cell_guid": "9f70d63a-116a-483d-88fd-55acdaa9c3d1",
                "language": "python"
            },
            "outputs": [],
            "execution_count": null
        },
        {
            "cell_type": "code",
            "source": [
                "df = _kql_raw_result_.to_dataframe()\n",
                "df"
            ],
            "metadata": {
                "azdata_cell_guid": "6a51e927-7626-41a7-8ccd-f8b8e1049bcb",
                "language": "python"
            },
            "outputs": [],
            "execution_count": null
        }
    ]
}