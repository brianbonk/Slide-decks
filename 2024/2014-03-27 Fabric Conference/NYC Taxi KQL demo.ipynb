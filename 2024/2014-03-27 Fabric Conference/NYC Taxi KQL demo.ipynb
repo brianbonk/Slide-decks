{
    "metadata": {
        "kernelspec": {
            "name": "python3",
            "display_name": "Python 3 (ipykernel)",
            "language": "python"
        },
        "language_info": {
            "name": "python",
            "version": "3.8.10",
            "mimetype": "text/x-python",
            "codemirror_mode": {
                "name": "ipython",
                "version": 3
            },
            "pygments_lexer": "ipython3",
            "nbconvert_exporter": "python",
            "file_extension": ".py"
        },
        "kernel_info": {
            "name": "synapse_pyspark"
        },
        "description": "",
        "save_output": true,
        "spark_compute": {
            "compute_id": "/trident/default",
            "session_options": {
                "keepAliveTimeout": 30,
                "enableDebugMode": false,
                "conf": {
                    "spark.livy.synapse.ipythonInterpreter.enabled": "true"
                }
            }
        },
        "notebook_environment": {},
        "synapse_widget": {
            "version": "0.1",
            "state": {}
        },
        "trident": {
            "lakehouse": {}
        }
    },
    "nbformat_minor": 2,
    "nbformat": 4,
    "cells": [
        {
            "cell_type": "markdown",
            "source": [
                "# NYC Taxi demo Notebooks and KQL\n",
                "\n",
                "_**<u>Source: [https://github.com/Azure/kusto-adx-cse](https:\\github.com\\Azure\\kusto-adx-cse)</u>**_\n",
                "\n",
                "This will use native python packages that are publicly available. \n",
                "\n",
                "**<u>Goal:</u>**   \n",
                "Q<span style=\"color: var(--vscode-foreground);\">uery a publicly available dataset (</span>[NYC taxi](https:\\learn.microsoft.com\\en-us\\azure\\open-datasets\\dataset-taxi-yellow?tabs=azureml-opendatasets)<span style=\"color: var(--vscode-foreground);\">) and use a basic clustering ML model to detect where are the most busy taxi pickup hot spots in New York City.</span>\n",
                "\n",
                "Note that as a prerequisite, your kusto database needs to have that data already ingested. Reach out to your buddy on how to ingest this.\n",
                "\n",
                "## High level notebook workflow\n",
                "\n",
                "- Load up our dependencies using import commands\n",
                "- Load up the [KQL magic](https:\\pypi.org\\project\\Kqlmagic\\) package to allow connectivity to Kusto\n",
                "- Authenticate to the Kusto database\n",
                "- Demo a few KQL commands to showcase KQL interactivity through Jupyter notebook\n",
                "- Train a model on a fraction of the data\n",
                "- Display a graphical rendering for the clustering results on New York City taxi pickup location\n",
                "\n",
                "So let's start by loading up the numpi packages we need for the renders later..."
            ],
            "metadata": {
                "nteract": {
                    "transient": {
                        "deleting": false
                    }
                },
                "azdata_cell_guid": "15c39b9b-8c06-46fb-8cd9-efa20075156b"
            },
            "attachments": {}
        },
        {
            "cell_type": "code",
            "source": [
                "import numpy as np\n",
                "import pandas as pd"
            ],
            "metadata": {
                "azdata_cell_guid": "3e553951-e842-49ee-b320-f05e5dea9ecb",
                "language": "python"
            },
            "outputs": [],
            "execution_count": null
        },
        {
            "cell_type": "markdown",
            "source": [
                "**_Missing module from GitHub_**\n",
                "\n",
                "Install needed scikit-learn module via pip"
            ],
            "metadata": {
                "language": "python",
                "azdata_cell_guid": "535a4b1f-8424-4950-8bff-8814707f24d6"
            },
            "attachments": {}
        },
        {
            "cell_type": "code",
            "source": [
                "!pip install scikit-learn"
            ],
            "metadata": {
                "language": "python",
                "azdata_cell_guid": "c4463a0c-aecc-4f04-89c7-13f075109c0d"
            },
            "outputs": [],
            "execution_count": null
        },
        {
            "cell_type": "markdown",
            "source": [
                "Then we load up some matplotlib packages for the graphs.."
            ],
            "metadata": {
                "nteract": {
                    "transient": {
                        "deleting": false
                    }
                },
                "azdata_cell_guid": "1fdf5358-4bd4-49a4-9222-82298e5fcb02"
            }
        },
        {
            "cell_type": "code",
            "source": [
                "import matplotlib\r\n",
                "import matplotlib.pyplot as plt\r\n",
                "%matplotlib inline"
            ],
            "metadata": {
                "jupyter": {
                    "source_hidden": false,
                    "outputs_hidden": false
                },
                "nteract": {
                    "transient": {
                        "deleting": false
                    }
                },
                "azdata_cell_guid": "005fd794-59bf-4b53-83fe-3506cc8f3ce4",
                "language": "python"
            },
            "outputs": [],
            "execution_count": null
        },
        {
            "cell_type": "markdown",
            "source": [
                "Now it's time to import the KQL magic package wich will enable the kusto connectivity"
            ],
            "metadata": {
                "nteract": {
                    "transient": {
                        "deleting": false
                    }
                },
                "azdata_cell_guid": "73160715-0eab-4a19-bcf6-5b8498ef6576"
            }
        },
        {
            "cell_type": "code",
            "source": [
                "!pip install Kqlmagic --no-cache-dir --upgrade"
            ],
            "metadata": {
                "jupyter": {
                    "source_hidden": false,
                    "outputs_hidden": false
                },
                "nteract": {
                    "transient": {
                        "deleting": false
                    }
                },
                "azdata_cell_guid": "acea65ee-f812-46ba-aa88-308f4d5f1a58",
                "language": "python"
            },
            "outputs": [],
            "execution_count": null
        },
        {
            "cell_type": "markdown",
            "source": [
                "we load up the package to memory"
            ],
            "metadata": {
                "nteract": {
                    "transient": {
                        "deleting": false
                    }
                },
                "azdata_cell_guid": "8d87506e-40d0-4c91-bd34-013667fd9870"
            }
        },
        {
            "cell_type": "code",
            "source": [
                "reload_ext Kqlmagic"
            ],
            "metadata": {
                "jupyter": {
                    "source_hidden": false,
                    "outputs_hidden": false
                },
                "nteract": {
                    "transient": {
                        "deleting": false
                    }
                },
                "azdata_cell_guid": "72242a9d-6b76-46a9-947d-e6bc41b1b015",
                "language": "python"
            },
            "outputs": [],
            "execution_count": null
        },
        {
            "cell_type": "markdown",
            "source": [
                "And now we must connect to your cluster URL. You can get this in the kusto database landing page in the database detail section. "
            ],
            "metadata": {
                "nteract": {
                    "transient": {
                        "deleting": false
                    }
                },
                "azdata_cell_guid": "6ecebebe-aaef-4396-8659-885980f855c5"
            }
        },
        {
            "cell_type": "markdown",
            "source": [
                "This uses what is called Device Code authentication flow. It will give you a code that you need to input and then ask you to authenticate using your AAD credentials. Single sign on is difficult due to the notebook running on compute. It's much easier to use device auth flow but do know that some organizations will prevent this using AAD conditional access. Talk to your administrators if you run into authentication issue and ask us for help as well."
            ],
            "metadata": {
                "nteract": {
                    "transient": {
                        "deleting": false
                    }
                },
                "azdata_cell_guid": "9741745a-893d-4228-9a30-080be664c2c1"
            }
        },
        {
            "cell_type": "code",
            "source": [
                "%kql kusto://code;cluster='https://trd25r7f2pc3u6y5rj890s.z9.kusto.data.microsoft.com';database='KustoDemo'"
            ],
            "metadata": {
                "jupyter": {
                    "source_hidden": false,
                    "outputs_hidden": false
                },
                "nteract": {
                    "transient": {
                        "deleting": false
                    }
                },
                "azdata_cell_guid": "fced2995-8ad4-4876-8865-da5570c1942a",
                "language": "python"
            },
            "outputs": [],
            "execution_count": null
        },
        {
            "cell_type": "markdown",
            "source": [
                "This step simply returns a count of the \"trips2\" table"
            ],
            "metadata": {
                "nteract": {
                    "transient": {
                        "deleting": false
                    }
                },
                "azdata_cell_guid": "a456531e-d282-4b66-b843-8b85defa847f"
            }
        },
        {
            "cell_type": "code",
            "source": [
                "%%kql trips2\r\n",
                "| extend \r\n",
                "  pickup_datetime= tpepPickupDateTime\r\n",
                ", pickup_latitude = startLat\r\n",
                ", pickup_longitude = startLon\r\n",
                "| where pickup_datetime between (datetime(2014-01-01)..datetime(2014-12-31))\r\n",
                "| where isnotempty(pickup_latitude) and isnotempty(pickup_longitude)\r\n",
                "| count"
            ],
            "metadata": {
                "jupyter": {
                    "source_hidden": false,
                    "outputs_hidden": false
                },
                "nteract": {
                    "transient": {
                        "deleting": false
                    }
                },
                "azdata_cell_guid": "99db1971-aecd-4c16-8717-8dc16bf07acf",
                "language": "python"
            },
            "outputs": [],
            "execution_count": null
        },
        {
            "cell_type": "markdown",
            "source": [
                "This cells shows how the render commands is also available through KQL magic. Note that here it`s kusto doing the rendering, not python."
            ],
            "metadata": {
                "nteract": {
                    "transient": {
                        "deleting": false
                    }
                },
                "azdata_cell_guid": "d9a958b4-9d4f-4d43-9bd6-fc3ec8396eb3"
            }
        },
        {
            "cell_type": "code",
            "source": [
                "%%kql      // Note the %% magic syntax to send full cell contents to ADX (including comment marker //)\r\n",
                "trips2\r\n",
                "| extend \r\n",
                "  pickup_datetime= tpepPickupDateTime\r\n",
                ", pickup_latitude = startLat\r\n",
                ", pickup_longitude = startLon\r\n",
                "| where pickup_datetime  between (datetime(2014-01-01)..datetime(2014-12-31))\r\n",
                "| summarize count() by bin_at(pickup_datetime, 7d, datetime(2014-01-01))\r\n",
                "| render timechart with(title='NYC 2014 Taxi Rides count per week')"
            ],
            "metadata": {
                "jupyter": {
                    "source_hidden": false,
                    "outputs_hidden": false
                },
                "nteract": {
                    "transient": {
                        "deleting": false
                    }
                },
                "azdata_cell_guid": "c1335757-1c08-4d79-8c21-833d5b0f7795",
                "language": "python"
            },
            "outputs": [],
            "execution_count": null
        },
        {
            "cell_type": "markdown",
            "source": [
                "Now we start working on a more detailed query that contextualizes the data using their geographic positions"
            ],
            "metadata": {
                "nteract": {
                    "transient": {
                        "deleting": false
                    }
                },
                "azdata_cell_guid": "149c1ff4-280a-465c-b980-f4636d7a0b43"
            }
        },
        {
            "cell_type": "code",
            "source": [
                "%%kql trips2 \r\n",
                "| extend \r\n",
                "  pickup_datetime= tpepPickupDateTime\r\n",
                ", dropoff_datetime = tpepDropoffDateTime\r\n",
                ", pickup_latitude = startLat\r\n",
                ", pickup_longitude = startLon\r\n",
                ", dropoff_longitude = endLon\r\n",
                ", dropoff_latitude = endLat\r\n",
                ", vendor_id=vendorID\r\n",
                "| where isnotempty(pickup_latitude) and isnotempty(pickup_longitude)\r\n",
                "| project vendor_id, pickup_datetime, dropoff_datetime,pickup_longitude, pickup_latitude, dropoff_longitude,dropoff_latitude\r\n",
                "| take 3"
            ],
            "metadata": {
                "jupyter": {
                    "source_hidden": false,
                    "outputs_hidden": false
                },
                "nteract": {
                    "transient": {
                        "deleting": false
                    }
                },
                "azdata_cell_guid": "95a86403-44c7-490d-9c40-0da93813d577",
                "language": "python"
            },
            "outputs": [],
            "execution_count": null
        },
        {
            "cell_type": "markdown",
            "source": [
                "Here we set some boundaries that will help us later"
            ],
            "metadata": {
                "nteract": {
                    "transient": {
                        "deleting": false
                    }
                },
                "azdata_cell_guid": "5a40ca10-0bf8-47dd-a1f7-29e837a95462"
            }
        },
        {
            "cell_type": "code",
            "source": [
                "# Define NYC area limits\r\n",
                "\r\n",
                "south=40.61\r\n",
                "north=40.91\r\n",
                "west=-74.06\r\n",
                "east=-73.77"
            ],
            "metadata": {
                "jupyter": {
                    "source_hidden": false,
                    "outputs_hidden": false
                },
                "nteract": {
                    "transient": {
                        "deleting": false
                    }
                },
                "azdata_cell_guid": "d6bbeeae-73dd-4f3f-adb1-feb2449d89c9",
                "language": "python"
            },
            "outputs": [],
            "execution_count": null
        },
        {
            "cell_type": "markdown",
            "source": [
                "1. Specify KQL query\r\n",
                "2. Implement simple result cache in local binary (pickle) file, based on hash of the KQL query string\r\n",
                "\r\n",
                "NOTE: to make hash() consistent set env. variable PYTHONHASHSEED=0"
            ],
            "metadata": {
                "nteract": {
                    "transient": {
                        "deleting": false
                    }
                },
                "azdata_cell_guid": "33c720b1-67f3-49ce-8e94-89de3d29b980"
            }
        },
        {
            "cell_type": "code",
            "source": [
                "%env PYTHONHASHSEED=0\r\n",
                "\r\n",
                "def adx_query(q):\r\n",
                "    fn = \"df\" + str(hash(q)) + \".pkl\"\r\n",
                "    try:\r\n",
                "        df = pd.read_pickle(fn)\r\n",
                "        print(\"Load df from \" + fn)\r\n",
                "        return df\r\n",
                "    except:\r\n",
                "        print(\"Execute query...\")\r\n",
                "        %kql res << -query q\r\n",
                "        try:\r\n",
                "            df = res.to_dataframe()\r\n",
                "            print(\"Save df to \" + fn)\r\n",
                "            df.to_pickle(fn)\r\n",
                "            print(\"\\n\", df.shape, \"\\n\", df.columns)\r\n",
                "            return df\r\n",
                "        except Exception as ex:\r\n",
                "            print(ex)\r\n",
                "            return None"
            ],
            "metadata": {
                "jupyter": {
                    "source_hidden": false,
                    "outputs_hidden": false
                },
                "nteract": {
                    "transient": {
                        "deleting": false
                    }
                },
                "azdata_cell_guid": "45264f36-c4f8-4179-b2a3-9c1f92d66507",
                "language": "python"
            },
            "outputs": [],
            "execution_count": null
        },
        {
            "cell_type": "markdown",
            "source": [
                "the \"Q\" variable holds our main KQL code. This will aggregate all pickups within our geographic boundary. "
            ],
            "metadata": {
                "nteract": {
                    "transient": {
                        "deleting": false
                    }
                },
                "azdata_cell_guid": "9edeb911-ebe8-4065-971f-79bc69b7bb77"
            }
        },
        {
            "cell_type": "code",
            "source": [
                "q = '''\r\n",
                "set notruncation;\r\n",
                "let South=south; let North=north; let West=west; let East=east; // copy Python variables to ADX\r\n",
                "trips2\r\n",
                "| extend \r\n",
                "  pickup_datetime= tpepPickupDateTime\r\n",
                ", dropoff_datetime = tpepDropoffDateTime\r\n",
                ", pickup_latitude = startLat\r\n",
                ", pickup_longitude = startLon\r\n",
                ", dropoff_longitude = endLon\r\n",
                ", dropoff_latitude = endLat\r\n",
                ", vendor_id=vendorID\r\n",
                "| where pickup_datetime between (datetime(2014-01-01)..datetime(2014-12-31))\r\n",
                "| where isnotempty(pickup_latitude) and isnotempty(pickup_longitude)\r\n",
                "| extend Lat=round(pickup_latitude, 4), Long=round(pickup_longitude, 4)\r\n",
                "| where Lat between(South..North) and Long between(West..East)\r\n",
                "| summarize num_pickups=count() by Lat, Long\r\n",
                "'''\r\n",
                "\r\n",
                "aggr_pickups = adx_query(q)"
            ],
            "metadata": {
                "jupyter": {
                    "source_hidden": false,
                    "outputs_hidden": false
                },
                "nteract": {
                    "transient": {
                        "deleting": false
                    }
                },
                "azdata_cell_guid": "1fd73376-fe13-47e3-8dd7-98939e93ae6e",
                "language": "python"
            },
            "outputs": [],
            "execution_count": null
        },
        {
            "cell_type": "markdown",
            "source": [
                "we show 4 rows of the dataframe..."
            ],
            "metadata": {
                "nteract": {
                    "transient": {
                        "deleting": false
                    }
                },
                "azdata_cell_guid": "028ba606-cac3-4a61-a169-375e78d2763b"
            }
        },
        {
            "cell_type": "code",
            "source": [
                "print(aggr_pickups[-4:])"
            ],
            "metadata": {
                "jupyter": {
                    "source_hidden": false,
                    "outputs_hidden": false
                },
                "nteract": {
                    "transient": {
                        "deleting": false
                    }
                },
                "azdata_cell_guid": "d0255e10-96cc-400c-a963-436b7ca05118",
                "language": "python"
            },
            "outputs": [],
            "execution_count": null
        },
        {
            "cell_type": "markdown",
            "source": [
                "Initialize graphics for heatmap"
            ],
            "metadata": {
                "nteract": {
                    "transient": {
                        "deleting": false
                    }
                },
                "azdata_cell_guid": "1e81b445-47ec-4655-8a77-145404063ddf"
            }
        },
        {
            "cell_type": "code",
            "source": [
                "new_style = {'grid':False}\r\n",
                "matplotlib.rc('axes', **new_style)\r\n",
                "from matplotlib import rcParams\r\n",
                "rcParams['figure.figsize'] = [15, 15]"
            ],
            "metadata": {
                "jupyter": {
                    "source_hidden": false,
                    "outputs_hidden": false
                },
                "nteract": {
                    "transient": {
                        "deleting": false
                    }
                },
                "azdata_cell_guid": "eb2a6bb7-7df4-40d2-bd1e-9cc204014fd0",
                "language": "python"
            },
            "outputs": [],
            "execution_count": null
        },
        {
            "cell_type": "markdown",
            "source": [
                "We draw a map by ploting a heat map over a scatter plot. Does this look familiar?"
            ],
            "metadata": {
                "nteract": {
                    "transient": {
                        "deleting": false
                    }
                },
                "azdata_cell_guid": "f7ae98fd-21fe-4752-8b17-ceb2ecab5aac"
            }
        },
        {
            "cell_type": "code",
            "source": [
                "plt.style.use('dark_background')\r\n",
                "p = aggr_pickups.plot(kind='scatter', x='Long', y='Lat', color='white', xlim=(west, east), ylim=(south, north), s=0.02, alpha=0.6)"
            ],
            "metadata": {
                "jupyter": {
                    "source_hidden": false,
                    "outputs_hidden": false
                },
                "nteract": {
                    "transient": {
                        "deleting": false
                    }
                },
                "azdata_cell_guid": "e98336c6-8967-4857-8a3c-41781e66cb3a",
                "language": "python"
            },
            "outputs": [],
            "execution_count": null
        },
        {
            "cell_type": "markdown",
            "source": [
                " We grab a small subset of the data for training 0.1%"
            ],
            "metadata": {
                "nteract": {
                    "transient": {
                        "deleting": false
                    }
                },
                "azdata_cell_guid": "25525632-2af8-426e-aa21-40ca3de37643"
            }
        },
        {
            "cell_type": "code",
            "source": [
                "q = '''\r\n",
                "set notruncation;\r\n",
                "let South=south; let North=north; let West=west; let East=east; // copy Python variables to ADX\r\n",
                "let sf=0.001; // Extract 0.1% of the raw data\r\n",
                "trips2\r\n",
                "| extend \r\n",
                "  pickup_datetime= tpepPickupDateTime\r\n",
                ", dropoff_datetime = tpepDropoffDateTime\r\n",
                ", pickup_latitude = startLat\r\n",
                ", pickup_longitude = startLon\r\n",
                ", dropoff_longitude = endLon\r\n",
                ", dropoff_latitude = endLat\r\n",
                ", vendor_id=vendorID\r\n",
                "| where pickup_datetime between (datetime(2014-01-01)..datetime(2014-12-31))\r\n",
                "| where pickup_latitude between(South..North) and pickup_longitude between(West..East)\r\n",
                "| project pickup_datetime, pickup_latitude, pickup_longitude\r\n",
                "| where rand() < sf'''\r\n",
                "\r\n",
                "df = adx_query(q)"
            ],
            "metadata": {
                "jupyter": {
                    "source_hidden": false,
                    "outputs_hidden": false
                },
                "nteract": {
                    "transient": {
                        "deleting": false
                    }
                },
                "azdata_cell_guid": "2a21eb82-9d9d-4bcd-a42a-6c8cbd3985b8",
                "language": "python"
            },
            "outputs": [],
            "execution_count": null
        },
        {
            "cell_type": "markdown",
            "source": [
                "We define the clustering function"
            ],
            "metadata": {
                "nteract": {
                    "transient": {
                        "deleting": false
                    }
                },
                "azdata_cell_guid": "c0107252-906a-4374-8d14-6a7e8a664ec3"
            }
        },
        {
            "cell_type": "code",
            "source": [
                "def KMeans_clustering(k, features):\r\n",
                "    from sklearn.cluster import KMeans, MiniBatchKMeans\r\n",
                "    km = MiniBatchKMeans(n_clusters=k) if features.shape[0] > 1000 else KMeans(n_clusters=k)\r\n",
                "    km.fit(features)\r\n",
                "    centroids = pd.DataFrame(km.cluster_centers_, columns=features.columns)\r\n",
                "    centroids.insert(features.shape[1], \"num\", pd.DataFrame(km.labels_, columns=[\"n\"]).groupby(\"n\").size())\r\n",
                "    centroids.insert(features.shape[1], \"cluster_id\", range(k))\r\n",
                "    return centroids, km.labels_"
            ],
            "metadata": {
                "jupyter": {
                    "source_hidden": false,
                    "outputs_hidden": false
                },
                "nteract": {
                    "transient": {
                        "deleting": false
                    }
                },
                "azdata_cell_guid": "9fd1fd4f-fa6b-4728-a23c-371a0f8b6f85",
                "language": "python"
            },
            "outputs": [],
            "execution_count": null
        },
        {
            "cell_type": "markdown",
            "source": [
                "We define a few more variables and mark the centroids on the map with stars"
            ],
            "metadata": {
                "nteract": {
                    "transient": {
                        "deleting": false
                    }
                },
                "azdata_cell_guid": "21899e17-887c-414e-ba34-a539e6a309de"
            }
        },
        {
            "cell_type": "code",
            "source": [
                "pickup_hub_loc, pickup_cluster = KMeans_clustering(8, df[['pickup_latitude', 'pickup_longitude']])\r\n",
                "pickup_hub_loc"
            ],
            "metadata": {
                "jupyter": {
                    "source_hidden": false,
                    "outputs_hidden": false
                },
                "nteract": {
                    "transient": {
                        "deleting": false
                    }
                },
                "azdata_cell_guid": "a77ad656-821e-41c4-834d-fa645ae3c1cd",
                "language": "python"
            },
            "outputs": [],
            "execution_count": null
        },
        {
            "cell_type": "code",
            "source": [
                "plt.scatter(x=aggr_pickups['Long'], y=aggr_pickups['Lat'], color='white', s=0.02, alpha=0.6)\r\n",
                "plt.scatter(x=pickup_hub_loc['pickup_longitude'], y=pickup_hub_loc['pickup_latitude'], color='#ff00a0', marker='*', s=pickup_hub_loc['num']/len(df)*8000, alpha=0.6)\r\n",
                "plt.show()"
            ],
            "metadata": {
                "jupyter": {
                    "source_hidden": false,
                    "outputs_hidden": false
                },
                "nteract": {
                    "transient": {
                        "deleting": false
                    }
                },
                "azdata_cell_guid": "95d85c61-270a-4474-8dad-13117c3d3315",
                "language": "python"
            },
            "outputs": [],
            "execution_count": null
        }
    ]
}