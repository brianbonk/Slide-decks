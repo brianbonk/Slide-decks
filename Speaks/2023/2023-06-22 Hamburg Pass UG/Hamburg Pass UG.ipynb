{
    "metadata": {
        "kernelspec": {
            "name": "SQL",
            "display_name": "SQL",
            "language": "sql"
        },
        "language_info": {
            "name": "sql",
            "version": ""
        }
    },
    "nbformat_minor": 2,
    "nbformat": 4,
    "cells": [
        {
            "cell_type": "markdown",
            "source": [
                "## **Database setup for LakeHouse and Warehouse**"
            ],
            "metadata": {
                "azdata_cell_guid": "d01d42e9-5d76-4f79-a702-6c9b19602a95"
            },
            "attachments": {}
        },
        {
            "cell_type": "markdown",
            "source": [
                "### **SQL Server version**"
            ],
            "metadata": {
                "language": "sql",
                "azdata_cell_guid": "200d37cf-ae46-4a14-adbc-61582eb21c2c"
            },
            "attachments": {}
        },
        {
            "cell_type": "code",
            "source": [
                "-- version\r\n",
                "\r\n",
                "select @@version"
            ],
            "metadata": {
                "language": "sql",
                "azdata_cell_guid": "64b292a8-f0e0-410b-8694-428736861b5b"
            },
            "outputs": [],
            "execution_count": null
        },
        {
            "cell_type": "markdown",
            "source": [
                "### **Collation**"
            ],
            "metadata": {
                "language": "sql",
                "azdata_cell_guid": "cca00c89-a9ea-40fc-a43c-4c3420c5cdc5"
            },
            "attachments": {}
        },
        {
            "cell_type": "code",
            "source": [
                "-- Collation\r\n",
                "use master\r\n",
                "\r\n",
                "select * from sys.databases"
            ],
            "metadata": {
                "azdata_cell_guid": "c48c8f44-a2af-4a69-82d8-dff6c9134fef",
                "language": "sql"
            },
            "outputs": [],
            "execution_count": null
        },
        {
            "cell_type": "markdown",
            "source": [
                "### **Serverproperties**"
            ],
            "metadata": {
                "language": "sql",
                "azdata_cell_guid": "3e63f656-91c9-46f1-80be-e442bad71d6e"
            },
            "attachments": {}
        },
        {
            "cell_type": "code",
            "source": [
                "\r\n",
                "select serverproperty('ProductVersion') as Version,\r\n",
                "serverproperty('Edition') as Edition,\r\n",
                "serverproperty('EngineEdition') as EngineEdition\r\n",
                ""
            ],
            "metadata": {
                "language": "sql",
                "azdata_cell_guid": "0e5d807c-bb38-4591-9152-6b714682d817"
            },
            "outputs": [],
            "execution_count": null
        },
        {
            "cell_type": "markdown",
            "source": [
                "### **Recovery model**"
            ],
            "metadata": {
                "language": "sql",
                "azdata_cell_guid": "64fcd833-585e-41ea-9ebb-33a3660de47d"
            },
            "attachments": {}
        },
        {
            "cell_type": "code",
            "source": [
                "\r\n",
                "select name, compatibility_level, recovery_model_desc from sys.databases"
            ],
            "metadata": {
                "language": "sql",
                "azdata_cell_guid": "ae166008-d1cc-4993-ae1c-cd13e3f50010"
            },
            "outputs": [],
            "execution_count": null
        },
        {
            "cell_type": "markdown",
            "source": [
                "### **Database files and location**"
            ],
            "metadata": {
                "language": "sql",
                "azdata_cell_guid": "d0db46b7-5c29-42ac-9d6f-f7c3103b0c6f"
            },
            "attachments": {}
        },
        {
            "cell_type": "code",
            "source": [
                "use HamburgWarehouse\r\n",
                "select file_id, file_guid, type, type_desc, data_space_id, name, physical_name, size, max_size, growth \r\n",
                "from sys.database_files"
            ],
            "metadata": {
                "language": "sql",
                "azdata_cell_guid": "be765ff6-770e-46ba-8b26-32abf54cfad4",
                "tags": []
            },
            "outputs": [],
            "execution_count": null
        },
        {
            "cell_type": "code",
            "source": [
                "use master\r\n",
                "select file_id, file_guid, type, type_desc, data_space_id, name, physical_name, size, max_size, growth \r\n",
                "from sys.database_files"
            ],
            "metadata": {
                "language": "sql",
                "azdata_cell_guid": "dbff797c-0b1f-40f6-a223-c0605aac386b"
            },
            "outputs": [],
            "execution_count": null
        },
        {
            "cell_type": "markdown",
            "source": [
                "### **Do we have a TempDB?**"
            ],
            "metadata": {
                "language": "sql",
                "azdata_cell_guid": "d5d58533-8753-4c9e-ae57-7abbfa201aaf"
            },
            "attachments": {}
        },
        {
            "cell_type": "code",
            "source": [
                "select file_id, file_guid, type, type_desc, data_space_id, name, physical_name, size, max_size, growth \r\n",
                "from tempdb.sys.database_files"
            ],
            "metadata": {
                "language": "sql",
                "azdata_cell_guid": "853ff77a-38be-4ce7-90b3-135cab6f54be"
            },
            "outputs": [],
            "execution_count": null
        },
        {
            "cell_type": "markdown",
            "source": [
                "## **What about normal DDL / DML scripts**\n",
                "\n",
                "When using DDL / DML commands in T-SQL, we expect it to be the full featureset, but in Fabric we are a tiny bit low in features."
            ],
            "metadata": {
                "azdata_cell_guid": "42a675f9-f5bf-456a-ad84-f7d9a060cbc1"
            },
            "attachments": {}
        },
        {
            "cell_type": "code",
            "source": [
                "use HamburgWarehouse\r\n",
                "select * from information_schema.tables"
            ],
            "metadata": {
                "azdata_cell_guid": "b589cb67-07b9-41d6-97cf-40ccd9c22524",
                "language": "sql"
            },
            "outputs": [],
            "execution_count": null
        },
        {
            "cell_type": "code",
            "source": [
                "select * from sys.objects"
            ],
            "metadata": {
                "language": "sql",
                "azdata_cell_guid": "616752dc-d303-40d6-a0f7-4aabd58f9296"
            },
            "outputs": [],
            "execution_count": null
        },
        {
            "cell_type": "code",
            "source": [
                "truncate table SalesLT.Customer"
            ],
            "metadata": {
                "language": "sql",
                "azdata_cell_guid": "a3a28597-e574-4fc5-95d4-dae81d32c04f"
            },
            "outputs": [],
            "execution_count": null
        },
        {
            "cell_type": "code",
            "source": [
                "delete from  SalesLT.Customer"
            ],
            "metadata": {
                "language": "sql",
                "azdata_cell_guid": "63105710-4457-4a48-826a-570b023c9fef"
            },
            "outputs": [],
            "execution_count": null
        }
    ]
}