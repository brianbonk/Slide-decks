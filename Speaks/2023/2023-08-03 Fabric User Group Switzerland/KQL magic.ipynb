{
    "metadata": {
        "kernelspec": {
            "name": "python3",
            "display_name": "Python 3 (ipykernel)",
            "language": "python"
        },
        "language_info": {
            "name": "python",
            "version": "3.8.10",
            "mimetype": "text/x-python",
            "codemirror_mode": {
                "name": "ipython",
                "version": 3
            },
            "pygments_lexer": "ipython3",
            "nbconvert_exporter": "python",
            "file_extension": ".py"
        }
    },
    "nbformat_minor": 2,
    "nbformat": 4,
    "cells": [
        {
            "cell_type": "markdown",
            "source": [
                "## **Prepare the use of KQL magic in Jupyter Notebooks**\n",
                "\n",
                "In order to leverage the use of KQL magic in Notebooks, you need to install the KQL magic extenstion.\n",
                "\n",
                "It does not matter where you install it, it wil work for both Azure Data Explorer and other notebook tools you might be using."
            ],
            "metadata": {
                "language": "python",
                "azdata_cell_guid": "533f88f7-a05e-4cef-b23a-9c9ee7a18382"
            },
            "attachments": {}
        },
        {
            "cell_type": "code",
            "source": [
                "!pip install Kqlmagic --no-cache-dir  --upgrade"
            ],
            "metadata": {
                "azdata_cell_guid": "3add80fa-67b3-40d3-bb8d-d26aeab344e4",
                "language": "python"
            },
            "outputs": [],
            "execution_count": null
        },
        {
            "cell_type": "markdown",
            "source": [
                "## **Enable the KQL extension**\n",
                "\n",
                "After installation, you need to enable the extension in the current application."
            ],
            "metadata": {
                "azdata_cell_guid": "8ecab276-6d12-409f-a5f5-ad8608b837d0"
            },
            "attachments": {}
        },
        {
            "cell_type": "code",
            "source": [
                "%reload_ext Kqlmagic"
            ],
            "metadata": {
                "azdata_cell_guid": "5e4409dc-a378-4542-95b6-1ec1336a9b19",
                "language": "python"
            },
            "outputs": [],
            "execution_count": null
        },
        {
            "cell_type": "markdown",
            "source": [
                "## **Connect to KQL Cluster**\n",
                "\n",
                "Now you can connect to your KQL cluster - either by using default login (with popup) or by using application key approach"
            ],
            "metadata": {
                "language": "python",
                "azdata_cell_guid": "b603debd-a6f3-47b9-8057-2eff825aa750"
            },
            "attachments": {}
        },
        {
            "cell_type": "code",
            "source": [
                "## Default pop-up approach\r\n",
                "%kql AzureDataExplorer://code;cluster='<cluster-name>';database='<database-name>'"
            ],
            "metadata": {
                "language": "python",
                "azdata_cell_guid": "291aabc3-8213-42aa-a7ca-5f9cea0059e1"
            },
            "outputs": [],
            "execution_count": null
        },
        {
            "cell_type": "code",
            "source": [
                "## application key approach\r\n",
                "%kql AzureDataExplorer://tenant='<tenant-id>';clientid='<aad-appid>';clientsecret='<aad-appkey>';cluster='<cluster-name>';database='<database-name>'"
            ],
            "metadata": {
                "language": "python",
                "azdata_cell_guid": "f02ffebe-a477-4401-a101-a075186f75fa"
            },
            "outputs": [],
            "execution_count": null
        },
        {
            "cell_type": "code",
            "source": [
                "## Connect to the HELP cluster from Microsoft\r\n",
                "%kql AzureDataExplorer://tenant=\"Microsoft.com\";code;cluster='help';database='Samples'"
            ],
            "metadata": {
                "language": "python",
                "azdata_cell_guid": "f4622903-60fa-4eba-b41a-0c8a2e9e4a72"
            },
            "outputs": [],
            "execution_count": 21
        },
        {
            "cell_type": "markdown",
            "source": [
                "## **Begin to use your Kusto magic**\n",
                "\n",
                "After connection you can begin to leverage your kusto abilities and get some things done"
            ],
            "metadata": {
                "language": "python",
                "azdata_cell_guid": "73b5e6bf-02cf-4623-83b0-e399c872968b"
            },
            "attachments": {}
        },
        {
            "cell_type": "code",
            "source": [
                "%%kql\r\n",
                "nyc_taxi\r\n",
                "| summarize tripcount=count() by HourOfDay=hourofday(pickup_datetime)\r\n",
                "| sort by HourOfDay \r\n",
                "| render barchart title=\"Tripcount by PickupTime\""
            ],
            "metadata": {
                "language": "python",
                "azdata_cell_guid": "647f7c98-7b47-44f0-b08b-3b87059813c8"
            },
            "outputs": [],
            "execution_count": null
        },
        {
            "cell_type": "code",
            "source": [
                "%%kql\r\n",
                "nyc_taxi\r\n",
                "| summarize tripcount=count() by bin(pickup_datetime,7d)\r\n",
                "| render timechart"
            ],
            "metadata": {
                "azdata_cell_guid": "1eb217aa-5a99-4b2f-8530-d30f449e40d4",
                "language": "python"
            },
            "outputs": [],
            "execution_count": null
        },
        {
            "cell_type": "markdown",
            "source": [
                "## **Use resultset in next cell**\n",
                "\n",
                "After you have your data as you wish, you can begin to work with it in dataframes as you would any other dataset"
            ],
            "metadata": {
                "language": "python",
                "azdata_cell_guid": "089dcdd2-fb42-4235-9915-a519f6455bdd"
            },
            "attachments": {}
        },
        {
            "cell_type": "code",
            "source": [
                "%%kql\r\n",
                "nyc_taxi\r\n",
                "| summarize tripcount=count() by HourOfDay=hourofday(pickup_datetime)\r\n",
                "| sort by HourOfDay "
            ],
            "metadata": {
                "language": "python",
                "azdata_cell_guid": "9f70d63a-116a-483d-88fd-55acdaa9c3d1"
            },
            "outputs": [],
            "execution_count": null
        },
        {
            "cell_type": "code",
            "source": [
                "df = _kql_raw_result_.to_dataframe()\r\n",
                "df"
            ],
            "metadata": {
                "language": "python",
                "azdata_cell_guid": "6a51e927-7626-41a7-8ccd-f8b8e1049bcb"
            },
            "outputs": [],
            "execution_count": null
        }
    ]
}