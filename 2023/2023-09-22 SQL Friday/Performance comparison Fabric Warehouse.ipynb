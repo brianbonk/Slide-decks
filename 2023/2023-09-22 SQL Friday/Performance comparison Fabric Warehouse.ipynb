{
    "metadata": {
        "kernelspec": {
            "name": "SQL",
            "display_name": "SQL",
            "language": "sql"
        },
        "language_info": {
            "name": "sql",
            "version": ""
        }
    },
    "nbformat_minor": 2,
    "nbformat": 4,
    "cells": [
        {
            "cell_type": "markdown",
            "source": [
                "# **Performance comparison between Synapse Serverless and Fabric Warehouse**\n",
                "\n",
                "## _**Fabric warehouse**_\n",
                "\n",
                "## _**Setup**_"
            ],
            "metadata": {
                "azdata_cell_guid": "b9defb93-5ef7-47d9-840b-4f73c6f10e2f"
            },
            "attachments": {}
        },
        {
            "cell_type": "code",
            "source": [
                "use warehouse\r\n",
                "\r\n",
                "-- below to make sure we are have a clean data cache to work with\r\n",
                "-- NO CHEATING :)\r\n",
                "-- does not work for Synapse -> only for Fabric warehouse\r\n",
                "ALTER DATABASE SCOPED CONFIGURATION CLEAR PROCEDURE_CACHE;"
            ],
            "metadata": {
                "azdata_cell_guid": "2171667a-c91e-47f4-bf8a-ac5746e97ff8",
                "language": "sql"
            },
            "outputs": [],
            "execution_count": null
        },
        {
            "cell_type": "markdown",
            "source": [
                "## _**Simple queries (count with filters)**_"
            ],
            "metadata": {
                "language": "sql",
                "azdata_cell_guid": "e5c56e21-0ad7-4310-bbd0-b4a8fe5432cd"
            },
            "attachments": {}
        },
        {
            "cell_type": "code",
            "source": [
                "select\r\n",
                "    count_big(*)\r\n",
                "from\r\n",
                "    dbo.NYCTaxi"
            ],
            "metadata": {
                "language": "sql",
                "azdata_cell_guid": "b486254e-05a4-43b8-8705-5a6b0f80ff42"
            },
            "outputs": [],
            "execution_count": null
        },
        {
            "cell_type": "code",
            "source": [
                "select \r\n",
                "    vendorID\r\n",
                "    ,count_big(*) as rowcounts\r\n",
                "from\r\n",
                "    dbo.NYCTaxi\r\n",
                "group by\r\n",
                "    vendorID"
            ],
            "metadata": {
                "language": "sql",
                "azdata_cell_guid": "3ec86de7-402b-4520-904d-a2bb92bc62a5"
            },
            "outputs": [],
            "execution_count": null
        },
        {
            "cell_type": "code",
            "source": [
                "select \r\n",
                "    passengerCount\r\n",
                "    ,count_big(*) as rowcounts\r\n",
                "from\r\n",
                "    dbo.NYCTaxi\r\n",
                "where 1=1\r\n",
                "    and vendorID = 'CMT'\r\n",
                "group by\r\n",
                "    passengerCount\r\n",
                "order by \r\n",
                "    passengerCount"
            ],
            "metadata": {
                "language": "sql",
                "azdata_cell_guid": "cdcdd58a-9fc4-4fdc-8345-d7e3fb939b64"
            },
            "outputs": [],
            "execution_count": null
        },
        {
            "cell_type": "code",
            "source": [
                "select \r\n",
                "    passengerCount\r\n",
                "    ,count_big(*) as rowcounts\r\n",
                "from\r\n",
                "    dbo.NYCTaxi\r\n",
                "where 1=1\r\n",
                "    and vendorID = 'CMT'\r\n",
                "    and year(tpepPickupDateTime) = 2009\r\n",
                "group by\r\n",
                "    passengerCount\r\n",
                "order by \r\n",
                "    passengerCount"
            ],
            "metadata": {
                "language": "sql",
                "azdata_cell_guid": "a773903d-3b94-4d08-9d8a-16c2e5d34f78",
                "tags": []
            },
            "outputs": [],
            "execution_count": null
        },
        {
            "cell_type": "markdown",
            "source": [
                "## _**Window functions**_"
            ],
            "metadata": {
                "language": "sql",
                "azdata_cell_guid": "4e996972-f0c1-4566-b095-5a87894fb1b2"
            },
            "attachments": {}
        },
        {
            "cell_type": "code",
            "source": [
                "select\r\n",
                "    tpepPickupDateTime\r\n",
                "    ,lead(tpepPickupDateTime) over (order by (select 1)) as NexttpepPickupDateTime\r\n",
                "from\r\n",
                "    dbo.NYCTaxi\r\n",
                "where 1=1\r\n",
                "    and vendorID = 'CMT'\r\n",
                "    and year(tpepPickupDateTime) = 2009\r\n",
                "    and passengerCount = 5"
            ],
            "metadata": {
                "language": "sql",
                "azdata_cell_guid": "9a7738b5-5c2c-48d3-8156-5ba98783cb21"
            },
            "outputs": [],
            "execution_count": null
        }
    ]
}